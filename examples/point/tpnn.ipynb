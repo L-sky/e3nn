{
 "cells": [
  {
   "cell_type": "code",
   "execution_count": 1,
   "metadata": {},
   "outputs": [],
   "source": [
    "import torch\n",
    "\n",
    "from e3nn.point.message_passing import TensorPassingHomogenous\n",
    "from e3nn.radial import GaussianRadialModel\n",
    "from e3nn.non_linearities.rescaled_act import swish\n",
    "from e3nn.point.gate import Gate\n",
    "from e3nn import rs\n",
    "\n",
    "from torch_geometric.data import Data\n",
    "\n",
    "import random\n",
    "from functools import partial\n",
    "\n",
    "from tqdm.notebook import tqdm"
   ]
  },
  {
   "cell_type": "code",
   "execution_count": 2,
   "metadata": {},
   "outputs": [],
   "source": [
    "torch.set_default_dtype(torch.float64)"
   ]
  },
  {
   "cell_type": "markdown",
   "metadata": {},
   "source": [
    "# Utils to generate random graphs"
   ]
  },
  {
   "cell_type": "code",
   "execution_count": 3,
   "metadata": {},
   "outputs": [],
   "source": [
    "def gen_Rs(max_l):\n",
    "    limit = min(11, max_l)\n",
    "    num_ls = random.randint(1, limit)\n",
    "    Ls = sorted(random.sample(range(limit), k=num_ls))\n",
    "    muls = [random.randint(1, 16) for _ in range(num_ls)]\n",
    "    Rs = [(mul, L, 0) for (mul, L) in zip(muls, Ls)]\n",
    "    return Rs\n",
    "\n",
    "def gen_edge_index(n_nodes, n_edges, device):\n",
    "    edge_index = torch.randint(low=0, high=n_nodes, size=(2, n_edges), dtype=torch.int64, device=device)\n",
    "    for idx in range(n_edges):\n",
    "        if edge_index[0][idx] == edge_index[1][idx]:\n",
    "            edge_index[1][idx] = torch.abs(edge_index[1][idx] - 1)\n",
    "        \n",
    "    edge_index = torch.cat([edge_index, edge_index.flip(0)], dim=1)\n",
    "    return edge_index\n",
    "\n",
    "def gen_graph(n_nodes, n_edges, Rs_features, device='cuda:0'):\n",
    "    pos = torch.randn((n_nodes, 3), device=device)\n",
    "    edge_index = gen_edge_index(n_nodes, n_edges, device)\n",
    "    \n",
    "    rel_vec = pos[edge_index[1]] - pos[edge_index[0]]\n",
    "    abs_distances = torch.norm(rel_vec, dim=1)\n",
    "    \n",
    "    rel_vec = torch.nn.functional.normalize(rel_vec)\n",
    "    x = torch.randn((n_nodes, rs.dim(Rs_features)), device=device)\n",
    "    y = torch.tensor(n_nodes%2, dtype=torch.get_default_dtype())\n",
    "    return Data(x, edge_index, pos=pos, rel_vec=rel_vec, abs_distances=abs_distances, y=y)"
   ]
  },
  {
   "cell_type": "markdown",
   "metadata": {},
   "source": [
    "# Define shapes of the features (layers)"
   ]
  },
  {
   "cell_type": "markdown",
   "metadata": {},
   "source": [
    "### (mul, L, p) \n",
    "### mul = multiplicity (number of copies)\n",
    "### L = rotation order (order of polinomial)\n",
    "### p = parity (0 means no parity, ignore for now)"
   ]
  },
  {
   "cell_type": "code",
   "execution_count": 6,
   "metadata": {},
   "outputs": [
    {
     "name": "stdout",
     "output_type": "stream",
     "text": [
      "('input', [(8, 0, 0)]) ('hidden_1', [(7, 0, 0), (11, 1, 0), (11, 2, 0)]) ('hidden_2', [(15, 1, 0), (11, 2, 0), (3, 3, 0)]) ('output', [(1, 0, 0)])\n"
     ]
    }
   ],
   "source": [
    "input_Rs = gen_Rs(1)\n",
    "hidden1_Rs = gen_Rs(4)\n",
    "hidden2_Rs = gen_Rs(4)\n",
    "output_Rs = [(1, 0, 0)]\n",
    "representations = [input_Rs, hidden1_Rs, hidden2_Rs, output_Rs]\n",
    "print(*zip(['input', 'hidden_1', 'hidden_2', 'output'], representations))"
   ]
  },
  {
   "cell_type": "markdown",
   "metadata": {},
   "source": [
    "# Define radial model\n",
    "### trainable function defined on absolute distances only  "
   ]
  },
  {
   "cell_type": "code",
   "execution_count": 7,
   "metadata": {},
   "outputs": [],
   "source": [
    "radial_model = partial(GaussianRadialModel, max_radius=3.2, min_radius=0.7, number_of_basis=10, h=100, L=3, act=swish)"
   ]
  },
  {
   "cell_type": "markdown",
   "metadata": {},
   "source": [
    "# Define gate\n",
    "### Equivariant nonlinearity"
   ]
  },
  {
   "cell_type": "code",
   "execution_count": 8,
   "metadata": {},
   "outputs": [],
   "source": [
    "gate = partial(Gate, scalar_act=torch.nn.ReLU, tensor_act=torch.nn.ReLU)"
   ]
  },
  {
   "cell_type": "markdown",
   "metadata": {},
   "source": [
    "# Instantiate model\n",
    "### For homogeneous model all instances of radial models and gates are of the same type"
   ]
  },
  {
   "cell_type": "code",
   "execution_count": 9,
   "metadata": {},
   "outputs": [],
   "source": [
    "model = TensorPassingHomogenous(representations, radial_model, gate)\n",
    "model = model.cuda()"
   ]
  },
  {
   "cell_type": "markdown",
   "metadata": {},
   "source": [
    "# Train"
   ]
  },
  {
   "cell_type": "code",
   "execution_count": 11,
   "metadata": {},
   "outputs": [
    {
     "data": {
      "application/vnd.jupyter.widget-view+json": {
       "model_id": "758de6d759f344cd98ff4b9d335d8d04",
       "version_major": 2,
       "version_minor": 0
      },
      "text/plain": [
       "HBox(children=(FloatProgress(value=0.0, max=10000.0), HTML(value='')))"
      ]
     },
     "metadata": {},
     "output_type": "display_data"
    },
    {
     "name": "stdout",
     "output_type": "stream",
     "text": [
      "\n"
     ]
    }
   ],
   "source": [
    "optimizer = torch.optim.SGD(model.parameters(), lr=0.01, momentum=0.9)\n",
    "criterion = torch.nn.BCELoss()\n",
    "\n",
    "for _ in tqdm(range(10000)):\n",
    "    n_nodes = random.randint(2, 100)\n",
    "    n_edges = random.randint(n_nodes, 5*n_nodes)\n",
    "    graph = gen_graph(n_nodes, n_edges, input_Rs)\n",
    "\n",
    "    optimizer.zero_grad()\n",
    "    output = torch.sigmoid(model(graph).sum())\n",
    "    loss = criterion(output, graph.y)\n",
    "    loss.backward()\n",
    "    optimizer.step()"
   ]
  }
 ],
 "metadata": {
  "kernelspec": {
   "display_name": "Python (lz)",
   "language": "python",
   "name": "lz"
  },
  "language_info": {
   "codemirror_mode": {
    "name": "ipython",
    "version": 3
   },
   "file_extension": ".py",
   "mimetype": "text/x-python",
   "name": "python",
   "nbconvert_exporter": "python",
   "pygments_lexer": "ipython3",
   "version": "3.6.11"
  }
 },
 "nbformat": 4,
 "nbformat_minor": 4
}
